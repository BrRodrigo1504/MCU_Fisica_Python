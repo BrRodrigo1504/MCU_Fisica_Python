{
 "cells": [
  {
   "cell_type": "code",
   "execution_count": null,
   "id": "92ef9e65",
   "metadata": {},
   "outputs": [
    {
     "data": {
      "text/html": [
       "<div id=\"glowscript\" class=\"glowscript\"></div>"
      ],
      "text/plain": [
       "<IPython.core.display.HTML object>"
      ]
     },
     "metadata": {},
     "output_type": "display_data"
    },
    {
     "data": {
      "application/javascript": [
       "if (typeof Jupyter !== \"undefined\") { window.__context = { glowscript_container: $(\"#glowscript\").removeAttr(\"id\")};}else{ element.textContent = ' ';}"
      ],
      "text/plain": [
       "<IPython.core.display.Javascript object>"
      ]
     },
     "metadata": {},
     "output_type": "display_data"
    },
    {
     "data": {
      "application/javascript": [
       "if (typeof Jupyter !== \"undefined\") {require.undef(\"nbextensions/vpython_libraries/glow.min\");}else{element.textContent = ' ';}"
      ],
      "text/plain": [
       "<IPython.core.display.Javascript object>"
      ]
     },
     "metadata": {},
     "output_type": "display_data"
    },
    {
     "data": {
      "application/javascript": [
       "if (typeof Jupyter !== \"undefined\") {require.undef(\"nbextensions/vpython_libraries/glowcomm\");}else{element.textContent = ' ';}"
      ],
      "text/plain": [
       "<IPython.core.display.Javascript object>"
      ]
     },
     "metadata": {},
     "output_type": "display_data"
    },
    {
     "data": {
      "application/javascript": [
       "if (typeof Jupyter !== \"undefined\") {require.undef(\"nbextensions/vpython_libraries/jquery-ui.custom.min\");}else{element.textContent = ' ';}"
      ],
      "text/plain": [
       "<IPython.core.display.Javascript object>"
      ]
     },
     "metadata": {},
     "output_type": "display_data"
    },
    {
     "data": {
      "application/javascript": [
       "if (typeof Jupyter !== \"undefined\") {require([\"nbextensions/vpython_libraries/glow.min\"], function(){console.log(\"GLOW LOADED\");});}else{element.textContent = ' ';}"
      ],
      "text/plain": [
       "<IPython.core.display.Javascript object>"
      ]
     },
     "metadata": {},
     "output_type": "display_data"
    },
    {
     "data": {
      "application/javascript": [
       "if (typeof Jupyter !== \"undefined\") {require([\"nbextensions/vpython_libraries/glowcomm\"], function(){console.log(\"GLOWCOMM LOADED\");});}else{element.textContent = ' ';}"
      ],
      "text/plain": [
       "<IPython.core.display.Javascript object>"
      ]
     },
     "metadata": {},
     "output_type": "display_data"
    },
    {
     "data": {
      "application/javascript": [
       "if (typeof Jupyter !== \"undefined\") {require([\"nbextensions/vpython_libraries/jquery-ui.custom.min\"], function(){console.log(\"JQUERY LOADED\");});}else{element.textContent = ' ';}"
      ],
      "text/plain": [
       "<IPython.core.display.Javascript object>"
      ]
     },
     "metadata": {},
     "output_type": "display_data"
    }
   ],
   "source": [
    "from vpython import *\n",
    "\n",
    "#Items\n",
    "\n",
    "mercurio = sphere(pos=vector(100,0,0), radius=10, color = color.orange, make_trail = True)\n",
    "venus = sphere(pos=vector(150,0,0), radius=20, color = color.red, make_trail = True)\n",
    "terra = sphere(pos=vector(200,0,0), radius=25, color = color.blue, make_trail = True)\n",
    "sol = sphere(pos=vector(0,0,0), radius=40, color = color.yellow, make_trail = True)\n",
    "\n",
    "\n",
    "#Condições\n",
    "\n",
    "r1 = 100          #Raio\n",
    "t1 = 1            #Tempo\n",
    "w1 = (2*pi)/t1    #Velocidade Angular\n",
    "\n",
    "r2= 150           #Raio\n",
    "t2 = 2            #Tempo\n",
    "w2 = (2*pi)/t2    #Velocidade Angular\n",
    "\n",
    "r3= 200           #Raio\n",
    "t3 = 3            #Tempo\n",
    "w3 = (2*pi)/t3    #Velocidade Angular\n",
    "\n",
    "dt = 0.001\n",
    "\n",
    "#Equações\n",
    "\n",
    "while True:\n",
    "    rate(180)\n",
    "    t1 += dt\n",
    "    p1 = vector(r1*cos(w1*t1), r1*sin(w1*t1), 0)\n",
    "    mercurio.pos = p1\n",
    "    \n",
    "    t2 += dt\n",
    "    p2 = vector(r2*cos(w2*t2), r2*sin(w2*t2), 0)\n",
    "    venus.pos = p2\n",
    "    \n",
    "    t3 += dt\n",
    "    p3 = vector(r3*cos(w3*t3), r3*sin(w3*t3), 0)\n",
    "    terra.pos = p3"
   ]
  },
  {
   "cell_type": "code",
   "execution_count": null,
   "id": "e67b6c92",
   "metadata": {},
   "outputs": [],
   "source": []
  },
  {
   "cell_type": "code",
   "execution_count": null,
   "id": "54084632",
   "metadata": {},
   "outputs": [],
   "source": []
  }
 ],
 "metadata": {
  "kernelspec": {
   "display_name": "Python 3 (ipykernel)",
   "language": "python",
   "name": "python3"
  },
  "language_info": {
   "codemirror_mode": {
    "name": "ipython",
    "version": 3
   },
   "file_extension": ".py",
   "mimetype": "text/x-python",
   "name": "python",
   "nbconvert_exporter": "python",
   "pygments_lexer": "ipython3",
   "version": "3.9.7"
  }
 },
 "nbformat": 4,
 "nbformat_minor": 5
}
